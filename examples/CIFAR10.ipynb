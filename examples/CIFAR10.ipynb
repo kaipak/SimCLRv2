{
 "cells": [
  {
   "cell_type": "code",
   "execution_count": null,
   "id": "4953673d-bdd2-43a2-a743-5bcc5524dd67",
   "metadata": {},
   "outputs": [],
   "source": [
    "%load_ext autoreload\n",
    "%autoreload 2\n",
    "%matplotlib inline"
   ]
  },
  {
   "cell_type": "markdown",
   "id": "402e79d4-48d0-4366-8081-dcbc34971f09",
   "metadata": {},
   "source": [
    "# CIFAR10 \n",
    "This notebook is an example run that goes through the CIFAR10 dataset. There is option to\n",
    "go through pretraining in this notebook. Be warned though, with the larger ResNet architectures, \n",
    "this can take a lot of compute to get decent results as SSL techniques generally need to \n",
    "utilize large batch sizes which means more GPUs, and more importantly, a lot more needed \n",
    "memory."
   ]
  },
  {
   "cell_type": "code",
   "execution_count": 3,
   "id": "6354d7ba-9f4e-4a0f-a271-13b8204def2f",
   "metadata": {},
   "outputs": [],
   "source": [
    "import os\n",
    "import sys\n",
    "import argparse\n",
    "from pprint import pprint\n",
    "\n",
    "import torch\n",
    "import torch.nn as nn\n",
    "import torchvision\n",
    "import numpy as np\n",
    "from torch.utils.tensorboard import SummaryWriter\n",
    "\n",
    "sys.path.insert(0, '../')\n",
    "\n",
    "from utils.model import save_model, load_optimizer\n",
    "from simclr.modules import LogisticRegression\n",
    "from simclr import SimCLR, SimCLRv2\n",
    "from simclr.modules import get_resnet_pt, get_resnet_v2, NT_Xent\n",
    "from simclr.modules.transformations import TransformsSimCLR\n",
    "from utils import yaml_config_hook"
   ]
  },
  {
   "cell_type": "code",
   "execution_count": null,
   "id": "030ed3d2-1fd1-4e49-b259-040503331b3b",
   "metadata": {},
   "outputs": [],
   "source": []
  }
 ],
 "metadata": {
  "kernelspec": {
   "display_name": "pytorch",
   "language": "python",
   "name": "pytorch"
  },
  "language_info": {
   "codemirror_mode": {
    "name": "ipython",
    "version": 3
   },
   "file_extension": ".py",
   "mimetype": "text/x-python",
   "name": "python",
   "nbconvert_exporter": "python",
   "pygments_lexer": "ipython3",
   "version": "3.7.11"
  }
 },
 "nbformat": 4,
 "nbformat_minor": 5
}
